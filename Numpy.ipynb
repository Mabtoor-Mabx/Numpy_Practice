{
 "cells": [
  {
   "cell_type": "markdown",
   "id": "7bfaad42",
   "metadata": {},
   "source": [
    "#  Numpy"
   ]
  },
  {
   "cell_type": "code",
   "execution_count": 1,
   "id": "25bbddd7",
   "metadata": {},
   "outputs": [],
   "source": [
    "import numpy as np"
   ]
  },
  {
   "cell_type": "code",
   "execution_count": 2,
   "id": "f20fa840",
   "metadata": {},
   "outputs": [
    {
     "data": {
      "text/plain": [
       "array([[2, 4],\n",
       "       [4, 6],\n",
       "       [8, 5],\n",
       "       [4, 8],\n",
       "       [4, 2],\n",
       "       [8, 6]])"
      ]
     },
     "execution_count": 2,
     "metadata": {},
     "output_type": "execute_result"
    }
   ],
   "source": [
    "numpy_A = np.array([\n",
    "    [2,4],[4,6],[8,5],[4,8],[4,2],[8,6]\n",
    "])\n",
    "numpy_A"
   ]
  },
  {
   "cell_type": "code",
   "execution_count": 4,
   "id": "89b5affa",
   "metadata": {},
   "outputs": [
    {
     "name": "stdout",
     "output_type": "stream",
     "text": [
      "2\n",
      "(6, 2)\n",
      "6\n",
      "2\n",
      "2\n",
      "48\n",
      "int32\n",
      "12\n",
      "4\n"
     ]
    }
   ],
   "source": [
    "print(numpy_A.ndim)\n",
    "print(numpy_A.shape)\n",
    "print(numpy_A.shape[0])\n",
    "print(numpy_A.shape[1])\n",
    "print(numpy_A.shape[-1])\n",
    "print(numpy_A.nbytes)\n",
    "print(numpy_A.dtype)\n",
    "print(numpy_A.size)\n",
    "print(numpy_A.itemsize)\n",
    "\n"
   ]
  },
  {
   "cell_type": "code",
   "execution_count": 7,
   "id": "443b003b",
   "metadata": {},
   "outputs": [
    {
     "data": {
      "text/plain": [
       "array([[0.00000000e+000, 0.00000000e+000, 0.00000000e+000,\n",
       "        0.00000000e+000],\n",
       "       [0.00000000e+000, 3.65608578e-321, 9.79107871e-307,\n",
       "        8.34445561e-308]])"
      ]
     },
     "execution_count": 7,
     "metadata": {},
     "output_type": "execute_result"
    }
   ],
   "source": [
    "np.empty((2,4))"
   ]
  },
  {
   "cell_type": "code",
   "execution_count": 8,
   "id": "527db0c3",
   "metadata": {},
   "outputs": [
    {
     "data": {
      "text/plain": [
       "array([0, 0])"
      ]
     },
     "execution_count": 8,
     "metadata": {},
     "output_type": "execute_result"
    }
   ],
   "source": [
    "np.empty_like((2,4))"
   ]
  },
  {
   "cell_type": "code",
   "execution_count": 10,
   "id": "73ab2ca6",
   "metadata": {},
   "outputs": [
    {
     "data": {
      "text/plain": [
       "array([[44, 44, 44, 44],\n",
       "       [44, 44, 44, 44]])"
      ]
     },
     "execution_count": 10,
     "metadata": {},
     "output_type": "execute_result"
    }
   ],
   "source": [
    "np.full((2,4), 44)"
   ]
  },
  {
   "cell_type": "code",
   "execution_count": 11,
   "id": "4a68dfa6",
   "metadata": {},
   "outputs": [
    {
     "data": {
      "text/plain": [
       "array([44, 44])"
      ]
     },
     "execution_count": 11,
     "metadata": {},
     "output_type": "execute_result"
    }
   ],
   "source": [
    "np.full_like((2,4),44)"
   ]
  },
  {
   "cell_type": "code",
   "execution_count": 12,
   "id": "2187c070",
   "metadata": {},
   "outputs": [
    {
     "data": {
      "text/plain": [
       "array([[1., 1., 1., 1.],\n",
       "       [1., 1., 1., 1.]])"
      ]
     },
     "execution_count": 12,
     "metadata": {},
     "output_type": "execute_result"
    }
   ],
   "source": [
    "np.ones((2,4))"
   ]
  },
  {
   "cell_type": "code",
   "execution_count": 13,
   "id": "0254dca7",
   "metadata": {},
   "outputs": [
    {
     "data": {
      "text/plain": [
       "array([[0., 0., 0., 0.],\n",
       "       [0., 0., 0., 0.]])"
      ]
     },
     "execution_count": 13,
     "metadata": {},
     "output_type": "execute_result"
    }
   ],
   "source": [
    "np.zeros((2,4))"
   ]
  },
  {
   "cell_type": "code",
   "execution_count": 14,
   "id": "18eacc85",
   "metadata": {},
   "outputs": [
    {
     "data": {
      "text/plain": [
       "array([23, 24, 25, 26, 27, 28, 29, 30, 31, 32, 33, 34, 35, 36, 37, 38, 39,\n",
       "       40, 41, 42, 43, 44, 45, 46, 47, 48, 49, 50, 51, 52, 53])"
      ]
     },
     "execution_count": 14,
     "metadata": {},
     "output_type": "execute_result"
    }
   ],
   "source": [
    "np.arange(23,54)"
   ]
  },
  {
   "cell_type": "code",
   "execution_count": 15,
   "id": "d90b37b5",
   "metadata": {},
   "outputs": [
    {
     "data": {
      "text/plain": [
       "array([4.        , 4.02040816, 4.04081633, 4.06122449, 4.08163265,\n",
       "       4.10204082, 4.12244898, 4.14285714, 4.16326531, 4.18367347,\n",
       "       4.20408163, 4.2244898 , 4.24489796, 4.26530612, 4.28571429,\n",
       "       4.30612245, 4.32653061, 4.34693878, 4.36734694, 4.3877551 ,\n",
       "       4.40816327, 4.42857143, 4.44897959, 4.46938776, 4.48979592,\n",
       "       4.51020408, 4.53061224, 4.55102041, 4.57142857, 4.59183673,\n",
       "       4.6122449 , 4.63265306, 4.65306122, 4.67346939, 4.69387755,\n",
       "       4.71428571, 4.73469388, 4.75510204, 4.7755102 , 4.79591837,\n",
       "       4.81632653, 4.83673469, 4.85714286, 4.87755102, 4.89795918,\n",
       "       4.91836735, 4.93877551, 4.95918367, 4.97959184, 5.        ])"
      ]
     },
     "execution_count": 15,
     "metadata": {},
     "output_type": "execute_result"
    }
   ],
   "source": [
    "np.linspace(4,5)"
   ]
  },
  {
   "cell_type": "code",
   "execution_count": 16,
   "id": "a8019574",
   "metadata": {},
   "outputs": [
    {
     "data": {
      "text/plain": [
       "(6, 2)"
      ]
     },
     "execution_count": 16,
     "metadata": {},
     "output_type": "execute_result"
    }
   ],
   "source": [
    "np.shape(numpy_A)"
   ]
  },
  {
   "cell_type": "code",
   "execution_count": 18,
   "id": "7456d26a",
   "metadata": {},
   "outputs": [
    {
     "data": {
      "text/plain": [
       "array([[2, 4, 4, 6],\n",
       "       [8, 5, 4, 8],\n",
       "       [4, 2, 8, 6]])"
      ]
     },
     "execution_count": 18,
     "metadata": {},
     "output_type": "execute_result"
    }
   ],
   "source": [
    "numpy_A.reshape((3,4))"
   ]
  },
  {
   "cell_type": "code",
   "execution_count": 19,
   "id": "30c872e9",
   "metadata": {},
   "outputs": [
    {
     "data": {
      "text/plain": [
       "array([2, 4, 4, 6, 8, 5, 4, 8, 4, 2, 8, 6])"
      ]
     },
     "execution_count": 19,
     "metadata": {},
     "output_type": "execute_result"
    }
   ],
   "source": [
    "numpy_A.ravel()"
   ]
  },
  {
   "cell_type": "code",
   "execution_count": 20,
   "id": "725bbdad",
   "metadata": {},
   "outputs": [
    {
     "data": {
      "text/plain": [
       "(6, 2)"
      ]
     },
     "execution_count": 20,
     "metadata": {},
     "output_type": "execute_result"
    }
   ],
   "source": [
    "numpy_A.shape"
   ]
  },
  {
   "cell_type": "code",
   "execution_count": 21,
   "id": "0ac80b99",
   "metadata": {},
   "outputs": [
    {
     "data": {
      "text/plain": [
       "array([30, 31])"
      ]
     },
     "execution_count": 21,
     "metadata": {},
     "output_type": "execute_result"
    }
   ],
   "source": [
    "numpy_A.sum(axis=0)"
   ]
  },
  {
   "cell_type": "code",
   "execution_count": 22,
   "id": "049554d4",
   "metadata": {},
   "outputs": [
    {
     "data": {
      "text/plain": [
       "array([ 6, 10, 13, 12,  6, 14])"
      ]
     },
     "execution_count": 22,
     "metadata": {},
     "output_type": "execute_result"
    }
   ],
   "source": [
    "numpy_A.sum(axis=1)"
   ]
  },
  {
   "cell_type": "code",
   "execution_count": 23,
   "id": "1aebce2a",
   "metadata": {},
   "outputs": [
    {
     "data": {
      "text/plain": [
       "<numpy.flatiter at 0x28bd46f54c0>"
      ]
     },
     "execution_count": 23,
     "metadata": {},
     "output_type": "execute_result"
    }
   ],
   "source": [
    "numpy_A.flat"
   ]
  },
  {
   "cell_type": "code",
   "execution_count": 24,
   "id": "76984178",
   "metadata": {},
   "outputs": [
    {
     "name": "stdout",
     "output_type": "stream",
     "text": [
      "2\n",
      "4\n",
      "4\n",
      "6\n",
      "8\n",
      "5\n",
      "4\n",
      "8\n",
      "4\n",
      "2\n",
      "8\n",
      "6\n"
     ]
    }
   ],
   "source": [
    "for item in numpy_A.flat:\n",
    "    print(item)"
   ]
  },
  {
   "cell_type": "code",
   "execution_count": 26,
   "id": "f111d324",
   "metadata": {},
   "outputs": [
    {
     "data": {
      "text/plain": [
       "2"
      ]
     },
     "execution_count": 26,
     "metadata": {},
     "output_type": "execute_result"
    }
   ],
   "source": [
    "np.min(numpy_A)"
   ]
  },
  {
   "cell_type": "code",
   "execution_count": 27,
   "id": "04f28b9b",
   "metadata": {},
   "outputs": [
    {
     "data": {
      "text/plain": [
       "5.083333333333333"
      ]
     },
     "execution_count": 27,
     "metadata": {},
     "output_type": "execute_result"
    }
   ],
   "source": [
    "np.mean(numpy_A)\n"
   ]
  },
  {
   "cell_type": "code",
   "execution_count": 28,
   "id": "a739da8d",
   "metadata": {},
   "outputs": [
    {
     "data": {
      "text/plain": [
       "8"
      ]
     },
     "execution_count": 28,
     "metadata": {},
     "output_type": "execute_result"
    }
   ],
   "source": [
    "np.max(numpy_A)"
   ]
  },
  {
   "cell_type": "code",
   "execution_count": 29,
   "id": "a44c4824",
   "metadata": {},
   "outputs": [
    {
     "data": {
      "text/plain": [
       "0"
      ]
     },
     "execution_count": 29,
     "metadata": {},
     "output_type": "execute_result"
    }
   ],
   "source": [
    "np.argmin(numpy_A)"
   ]
  },
  {
   "cell_type": "code",
   "execution_count": 30,
   "id": "16471081",
   "metadata": {},
   "outputs": [
    {
     "data": {
      "text/plain": [
       "4"
      ]
     },
     "execution_count": 30,
     "metadata": {},
     "output_type": "execute_result"
    }
   ],
   "source": [
    "np.argmax(numpy_A)"
   ]
  },
  {
   "cell_type": "code",
   "execution_count": 31,
   "id": "355fe195",
   "metadata": {},
   "outputs": [
    {
     "data": {
      "text/plain": [
       "array([[0, 1],\n",
       "       [0, 1],\n",
       "       [1, 0],\n",
       "       [0, 1],\n",
       "       [1, 0],\n",
       "       [1, 0]], dtype=int64)"
      ]
     },
     "execution_count": 31,
     "metadata": {},
     "output_type": "execute_result"
    }
   ],
   "source": [
    "np.argsort(numpy_A)"
   ]
  },
  {
   "cell_type": "code",
   "execution_count": 33,
   "id": "de2d630c",
   "metadata": {},
   "outputs": [
    {
     "data": {
      "text/plain": [
       "array([[1.41421356, 2.        ],\n",
       "       [2.        , 2.44948974],\n",
       "       [2.82842712, 2.23606798],\n",
       "       [2.        , 2.82842712],\n",
       "       [2.        , 1.41421356],\n",
       "       [2.82842712, 2.44948974]])"
      ]
     },
     "execution_count": 33,
     "metadata": {},
     "output_type": "execute_result"
    }
   ],
   "source": [
    "np.sqrt(numpy_A)"
   ]
  },
  {
   "cell_type": "code",
   "execution_count": 34,
   "id": "06fa7c49",
   "metadata": {},
   "outputs": [
    {
     "data": {
      "text/plain": [
       "3"
      ]
     },
     "execution_count": 34,
     "metadata": {},
     "output_type": "execute_result"
    }
   ],
   "source": [
    "np.random.randint(2,4)"
   ]
  },
  {
   "cell_type": "code",
   "execution_count": 35,
   "id": "2d9ea110",
   "metadata": {},
   "outputs": [
    {
     "data": {
      "text/plain": [
       "array([[0.77961637, 0.70207045, 0.5998151 , 0.90355643],\n",
       "       [0.67825851, 0.97412023, 0.08055402, 0.50649978]])"
      ]
     },
     "execution_count": 35,
     "metadata": {},
     "output_type": "execute_result"
    }
   ],
   "source": [
    "np.random.random_sample((2,4))"
   ]
  },
  {
   "cell_type": "code",
   "execution_count": 36,
   "id": "f7c72c8f",
   "metadata": {},
   "outputs": [
    {
     "data": {
      "text/plain": [
       "array([[2, 4],\n",
       "       [4, 6],\n",
       "       [8, 5],\n",
       "       [4, 8],\n",
       "       [4, 2],\n",
       "       [8, 6]])"
      ]
     },
     "execution_count": 36,
     "metadata": {},
     "output_type": "execute_result"
    }
   ],
   "source": [
    "numpy_A"
   ]
  },
  {
   "cell_type": "code",
   "execution_count": 37,
   "id": "201acba4",
   "metadata": {},
   "outputs": [],
   "source": [
    "output = np.ones((5,5))"
   ]
  },
  {
   "cell_type": "code",
   "execution_count": 38,
   "id": "2b3e6100",
   "metadata": {},
   "outputs": [
    {
     "data": {
      "text/plain": [
       "array([[1., 1., 1., 1., 1.],\n",
       "       [1., 1., 1., 1., 1.],\n",
       "       [1., 1., 1., 1., 1.],\n",
       "       [1., 1., 1., 1., 1.],\n",
       "       [1., 1., 1., 1., 1.]])"
      ]
     },
     "execution_count": 38,
     "metadata": {},
     "output_type": "execute_result"
    }
   ],
   "source": [
    "output"
   ]
  },
  {
   "cell_type": "code",
   "execution_count": 40,
   "id": "b69f30c4",
   "metadata": {},
   "outputs": [],
   "source": [
    "z= np.zeros((3,3))"
   ]
  },
  {
   "cell_type": "code",
   "execution_count": 41,
   "id": "ca76c199",
   "metadata": {},
   "outputs": [
    {
     "data": {
      "text/plain": [
       "array([[0., 0., 0.],\n",
       "       [0., 0., 0.],\n",
       "       [0., 0., 0.]])"
      ]
     },
     "execution_count": 41,
     "metadata": {},
     "output_type": "execute_result"
    }
   ],
   "source": [
    "z"
   ]
  },
  {
   "cell_type": "code",
   "execution_count": 46,
   "id": "158c7ed4",
   "metadata": {},
   "outputs": [],
   "source": [
    "z[1:-1] = 4 "
   ]
  },
  {
   "cell_type": "code",
   "execution_count": 47,
   "id": "8d88ce4f",
   "metadata": {},
   "outputs": [
    {
     "data": {
      "text/plain": [
       "array([[0., 0., 0.],\n",
       "       [4., 4., 4.],\n",
       "       [0., 0., 0.]])"
      ]
     },
     "execution_count": 47,
     "metadata": {},
     "output_type": "execute_result"
    }
   ],
   "source": [
    "z"
   ]
  },
  {
   "cell_type": "code",
   "execution_count": 48,
   "id": "fe157907",
   "metadata": {},
   "outputs": [],
   "source": [
    "output[1:-1,1:-1] = z"
   ]
  },
  {
   "cell_type": "code",
   "execution_count": 49,
   "id": "eaa7af82",
   "metadata": {},
   "outputs": [
    {
     "data": {
      "text/plain": [
       "array([[1., 1., 1., 1., 1.],\n",
       "       [1., 0., 0., 0., 1.],\n",
       "       [1., 4., 4., 4., 1.],\n",
       "       [1., 0., 0., 0., 1.],\n",
       "       [1., 1., 1., 1., 1.]])"
      ]
     },
     "execution_count": 49,
     "metadata": {},
     "output_type": "execute_result"
    }
   ],
   "source": [
    "output"
   ]
  },
  {
   "cell_type": "code",
   "execution_count": 50,
   "id": "86c719d6",
   "metadata": {},
   "outputs": [
    {
     "data": {
      "text/plain": [
       "array([[0.26118928, 0.07584148, 0.54380187, 0.36850026],\n",
       "       [0.47229314, 0.08322072, 0.10194518, 0.93724776]])"
      ]
     },
     "execution_count": 50,
     "metadata": {},
     "output_type": "execute_result"
    }
   ],
   "source": [
    "np.random.rand(2,4)"
   ]
  },
  {
   "cell_type": "code",
   "execution_count": 51,
   "id": "134222db",
   "metadata": {},
   "outputs": [
    {
     "data": {
      "text/plain": [
       "array([[1., 0., 0., ..., 0., 0., 0.],\n",
       "       [0., 1., 0., ..., 0., 0., 0.],\n",
       "       [0., 0., 1., ..., 0., 0., 0.],\n",
       "       ...,\n",
       "       [0., 0., 0., ..., 1., 0., 0.],\n",
       "       [0., 0., 0., ..., 0., 1., 0.],\n",
       "       [0., 0., 0., ..., 0., 0., 1.]])"
      ]
     },
     "execution_count": 51,
     "metadata": {},
     "output_type": "execute_result"
    }
   ],
   "source": [
    "np.identity(32)"
   ]
  },
  {
   "cell_type": "code",
   "execution_count": 52,
   "id": "d6925fe0",
   "metadata": {},
   "outputs": [
    {
     "data": {
      "text/plain": [
       "array([2, 2, 2, 2, 2, 4, 4, 4, 4, 4, 4, 4, 4, 4, 4, 6, 6, 6, 6, 6, 8, 8,\n",
       "       8, 8, 8, 5, 5, 5, 5, 5, 4, 4, 4, 4, 4, 8, 8, 8, 8, 8, 4, 4, 4, 4,\n",
       "       4, 2, 2, 2, 2, 2, 8, 8, 8, 8, 8, 6, 6, 6, 6, 6])"
      ]
     },
     "execution_count": 52,
     "metadata": {},
     "output_type": "execute_result"
    }
   ],
   "source": [
    "numpy_A.repeat(5)"
   ]
  },
  {
   "cell_type": "code",
   "execution_count": 53,
   "id": "9b6c9a7c",
   "metadata": {},
   "outputs": [
    {
     "data": {
      "text/plain": [
       "array([[2, 4, 8, 4, 4, 8],\n",
       "       [4, 6, 5, 8, 2, 6]])"
      ]
     },
     "execution_count": 53,
     "metadata": {},
     "output_type": "execute_result"
    }
   ],
   "source": [
    "numpy_A.T"
   ]
  },
  {
   "cell_type": "code",
   "execution_count": 55,
   "id": "80be2f88",
   "metadata": {},
   "outputs": [
    {
     "data": {
      "text/plain": [
       "(array([], dtype=int64), array([], dtype=int64))"
      ]
     },
     "execution_count": 55,
     "metadata": {},
     "output_type": "execute_result"
    }
   ],
   "source": [
    "np.where(numpy_A<1)"
   ]
  },
  {
   "cell_type": "code",
   "execution_count": 56,
   "id": "eee844d6",
   "metadata": {},
   "outputs": [
    {
     "data": {
      "text/plain": [
       "(array([0, 1, 1, 2, 2, 3, 3, 4, 5, 5], dtype=int64),\n",
       " array([1, 0, 1, 0, 1, 0, 1, 0, 0, 1], dtype=int64))"
      ]
     },
     "execution_count": 56,
     "metadata": {},
     "output_type": "execute_result"
    }
   ],
   "source": [
    "np.where(numpy_A>3)"
   ]
  },
  {
   "cell_type": "code",
   "execution_count": 57,
   "id": "4f4ddc7c",
   "metadata": {},
   "outputs": [
    {
     "data": {
      "text/plain": [
       "12"
      ]
     },
     "execution_count": 57,
     "metadata": {},
     "output_type": "execute_result"
    }
   ],
   "source": [
    "np.count_nonzero(numpy_A)"
   ]
  },
  {
   "cell_type": "code",
   "execution_count": 59,
   "id": "9a19f272",
   "metadata": {},
   "outputs": [
    {
     "data": {
      "text/plain": [
       "140"
      ]
     },
     "execution_count": 59,
     "metadata": {},
     "output_type": "execute_result"
    }
   ],
   "source": [
    "import sys\n",
    "py_ar = [2,42,5,64,24]\n",
    "np_ar = np.array(py_ar)\n",
    "sys.getsizeof(1) * len(py_ar)"
   ]
  },
  {
   "cell_type": "code",
   "execution_count": 60,
   "id": "4e941c45",
   "metadata": {},
   "outputs": [
    {
     "data": {
      "text/plain": [
       "20"
      ]
     },
     "execution_count": 60,
     "metadata": {},
     "output_type": "execute_result"
    }
   ],
   "source": [
    "np_ar.itemsize * np_ar.size"
   ]
  },
  {
   "cell_type": "code",
   "execution_count": 62,
   "id": "4000c22f",
   "metadata": {},
   "outputs": [
    {
     "data": {
      "text/plain": [
       "array([[-0.41614684, -0.65364362],\n",
       "       [-0.65364362,  0.96017029],\n",
       "       [-0.14550003,  0.28366219],\n",
       "       [-0.65364362, -0.14550003],\n",
       "       [-0.65364362, -0.41614684],\n",
       "       [-0.14550003,  0.96017029]])"
      ]
     },
     "execution_count": 62,
     "metadata": {},
     "output_type": "execute_result"
    }
   ],
   "source": [
    "np.cos(numpy_A)"
   ]
  },
  {
   "cell_type": "code",
   "execution_count": 63,
   "id": "04447dfe",
   "metadata": {},
   "outputs": [
    {
     "data": {
      "text/plain": [
       "array([[ 0.90929743, -0.7568025 ],\n",
       "       [-0.7568025 , -0.2794155 ],\n",
       "       [ 0.98935825, -0.95892427],\n",
       "       [-0.7568025 ,  0.98935825],\n",
       "       [-0.7568025 ,  0.90929743],\n",
       "       [ 0.98935825, -0.2794155 ]])"
      ]
     },
     "execution_count": 63,
     "metadata": {},
     "output_type": "execute_result"
    }
   ],
   "source": [
    "np.sin(numpy_A)"
   ]
  },
  {
   "cell_type": "code",
   "execution_count": 67,
   "id": "fd054624",
   "metadata": {},
   "outputs": [
    {
     "data": {
      "text/plain": [
       "array([[-2.18503986,  1.15782128],\n",
       "       [ 1.15782128, -0.29100619],\n",
       "       [-6.79971146, -3.38051501],\n",
       "       [ 1.15782128, -6.79971146],\n",
       "       [ 1.15782128, -2.18503986],\n",
       "       [-6.79971146, -0.29100619]])"
      ]
     },
     "execution_count": 67,
     "metadata": {},
     "output_type": "execute_result"
    }
   ],
   "source": [
    "np.tan(numpy_A)"
   ]
  },
  {
   "cell_type": "code",
   "execution_count": 68,
   "id": "c49f0e4e",
   "metadata": {},
   "outputs": [],
   "source": [
    "numpy_B = numpy_A"
   ]
  },
  {
   "cell_type": "code",
   "execution_count": 69,
   "id": "e3be4944",
   "metadata": {},
   "outputs": [
    {
     "data": {
      "text/plain": [
       "array([[2, 4],\n",
       "       [4, 6],\n",
       "       [8, 5],\n",
       "       [4, 8],\n",
       "       [4, 2],\n",
       "       [8, 6],\n",
       "       [2, 4],\n",
       "       [4, 6],\n",
       "       [8, 5],\n",
       "       [4, 8],\n",
       "       [4, 2],\n",
       "       [8, 6]])"
      ]
     },
     "execution_count": 69,
     "metadata": {},
     "output_type": "execute_result"
    }
   ],
   "source": [
    "np.vstack([numpy_A,numpy_B])"
   ]
  },
  {
   "cell_type": "code",
   "execution_count": 70,
   "id": "1cdc71e9",
   "metadata": {},
   "outputs": [
    {
     "data": {
      "text/plain": [
       "array([[2, 4, 2, 4],\n",
       "       [4, 6, 4, 6],\n",
       "       [8, 5, 8, 5],\n",
       "       [4, 8, 4, 8],\n",
       "       [4, 2, 4, 2],\n",
       "       [8, 6, 8, 6]])"
      ]
     },
     "execution_count": 70,
     "metadata": {},
     "output_type": "execute_result"
    }
   ],
   "source": [
    "np.hstack([numpy_A, numpy_B])"
   ]
  },
  {
   "cell_type": "code",
   "execution_count": 73,
   "id": "4f731343",
   "metadata": {},
   "outputs": [
    {
     "data": {
      "text/plain": [
       "array([[3, 4],\n",
       "       [5, 3]])"
      ]
     },
     "execution_count": 73,
     "metadata": {},
     "output_type": "execute_result"
    }
   ],
   "source": [
    "val = np.array([\n",
    "    [3,4],[5,3]\n",
    "])\n",
    "val"
   ]
  },
  {
   "cell_type": "code",
   "execution_count": 74,
   "id": "22659ab9",
   "metadata": {},
   "outputs": [
    {
     "data": {
      "text/plain": [
       "-11.000000000000002"
      ]
     },
     "execution_count": 74,
     "metadata": {},
     "output_type": "execute_result"
    }
   ],
   "source": [
    "np.linalg.det(val)"
   ]
  },
  {
   "cell_type": "code",
   "execution_count": 75,
   "id": "2bfec7bb",
   "metadata": {},
   "outputs": [],
   "source": [
    "data = np.genfromtxt('info.txt')"
   ]
  },
  {
   "cell_type": "code",
   "execution_count": 76,
   "id": "72150874",
   "metadata": {},
   "outputs": [
    {
     "data": {
      "text/plain": [
       "array([ 34.,  54.,  35.,  35.,  32., 532.,   5., 325.,   3.,  41.,   4.,\n",
       "         3., 423.,  52.,   5., 225.,   2., 523.,   5.])"
      ]
     },
     "execution_count": 76,
     "metadata": {},
     "output_type": "execute_result"
    }
   ],
   "source": [
    "data"
   ]
  },
  {
   "cell_type": "code",
   "execution_count": 77,
   "id": "1c54b0b1",
   "metadata": {},
   "outputs": [],
   "source": [
    "data  = np.genfromtxt('info.txt', delimiter=',')"
   ]
  },
  {
   "cell_type": "code",
   "execution_count": 79,
   "id": "e9eeddfd",
   "metadata": {},
   "outputs": [
    {
     "data": {
      "text/plain": [
       "array([ 34.,  54.,  35.,  35.,  32., 532.,   5., 325.,   3.,  41.,   4.,\n",
       "         3., 423.,  52.,   5., 225.,   2., 523.,   5.])"
      ]
     },
     "execution_count": 79,
     "metadata": {},
     "output_type": "execute_result"
    }
   ],
   "source": [
    "data"
   ]
  },
  {
   "cell_type": "code",
   "execution_count": 80,
   "id": "d5a40c36",
   "metadata": {},
   "outputs": [
    {
     "data": {
      "text/plain": [
       "array([34., 54.])"
      ]
     },
     "execution_count": 80,
     "metadata": {},
     "output_type": "execute_result"
    }
   ],
   "source": [
    "data[:2]"
   ]
  },
  {
   "cell_type": "code",
   "execution_count": 81,
   "id": "421ea9f1",
   "metadata": {},
   "outputs": [
    {
     "data": {
      "text/plain": [
       "array([ 35.,  35.,  32., 532.,   5., 325.,   3.,  41.,   4.,   3., 423.,\n",
       "        52.,   5., 225.,   2., 523.,   5.])"
      ]
     },
     "execution_count": 81,
     "metadata": {},
     "output_type": "execute_result"
    }
   ],
   "source": [
    "data[2:]"
   ]
  },
  {
   "cell_type": "code",
   "execution_count": null,
   "id": "fbb1ea44",
   "metadata": {},
   "outputs": [],
   "source": []
  }
 ],
 "metadata": {
  "kernelspec": {
   "display_name": "Python 3",
   "language": "python",
   "name": "python3"
  },
  "language_info": {
   "codemirror_mode": {
    "name": "ipython",
    "version": 3
   },
   "file_extension": ".py",
   "mimetype": "text/x-python",
   "name": "python",
   "nbconvert_exporter": "python",
   "pygments_lexer": "ipython3",
   "version": "3.8.8"
  }
 },
 "nbformat": 4,
 "nbformat_minor": 5
}
