{
 "cells": [
  {
   "cell_type": "markdown",
   "id": "f962c578",
   "metadata": {},
   "source": [
    "# NUMPY_Practice"
   ]
  },
  {
   "cell_type": "code",
   "execution_count": 1,
   "id": "dfd88acf",
   "metadata": {},
   "outputs": [],
   "source": [
    "import numpy as np"
   ]
  },
  {
   "cell_type": "code",
   "execution_count": 2,
   "id": "bd8b85eb",
   "metadata": {},
   "outputs": [
    {
     "data": {
      "text/plain": [
       "array([[1, 3],\n",
       "       [5, 6],\n",
       "       [7, 4],\n",
       "       [6, 4]])"
      ]
     },
     "execution_count": 2,
     "metadata": {},
     "output_type": "execute_result"
    }
   ],
   "source": [
    "numpy_A = np.array([\n",
    "    [1,3],[5,6],[7,4],[6,4]\n",
    "])\n",
    "numpy_A"
   ]
  },
  {
   "cell_type": "code",
   "execution_count": 4,
   "id": "997aec09",
   "metadata": {},
   "outputs": [
    {
     "name": "stdout",
     "output_type": "stream",
     "text": [
      "8\n",
      "4\n",
      "(4, 2)\n",
      "int32\n",
      "2\n",
      "4\n",
      "2\n",
      "2\n",
      "32\n"
     ]
    }
   ],
   "source": [
    "print(numpy_A.size)\n",
    "print(numpy_A.itemsize)\n",
    "print(numpy_A.shape)\n",
    "print(numpy_A.dtype)\n",
    "print(numpy_A.ndim)\n",
    "print(numpy_A.shape[0])\n",
    "print(numpy_A.shape[-1])\n",
    "print(numpy_A.shape[1])\n",
    "print(numpy_A.nbytes)"
   ]
  },
  {
   "cell_type": "code",
   "execution_count": 5,
   "id": "3139573c",
   "metadata": {},
   "outputs": [
    {
     "data": {
      "text/plain": [
       "array([[0., 0., 0., 0.],\n",
       "       [0., 0., 0., 0.]])"
      ]
     },
     "execution_count": 5,
     "metadata": {},
     "output_type": "execute_result"
    }
   ],
   "source": [
    "np.zeros((2,4))"
   ]
  },
  {
   "cell_type": "code",
   "execution_count": 6,
   "id": "0b2963a6",
   "metadata": {},
   "outputs": [
    {
     "data": {
      "text/plain": [
       "array([[1., 1., 1., 1.],\n",
       "       [1., 1., 1., 1.]])"
      ]
     },
     "execution_count": 6,
     "metadata": {},
     "output_type": "execute_result"
    }
   ],
   "source": [
    "np.ones((2,4))"
   ]
  },
  {
   "cell_type": "code",
   "execution_count": 8,
   "id": "e3664193",
   "metadata": {},
   "outputs": [
    {
     "data": {
      "text/plain": [
       "array([[99, 99, 99, 99],\n",
       "       [99, 99, 99, 99]])"
      ]
     },
     "execution_count": 8,
     "metadata": {},
     "output_type": "execute_result"
    }
   ],
   "source": [
    "np.full((2,4),99 )"
   ]
  },
  {
   "cell_type": "code",
   "execution_count": 9,
   "id": "25c5d21c",
   "metadata": {},
   "outputs": [
    {
     "data": {
      "text/plain": [
       "array([99, 99])"
      ]
     },
     "execution_count": 9,
     "metadata": {},
     "output_type": "execute_result"
    }
   ],
   "source": [
    "np.full_like((2,4),99)"
   ]
  },
  {
   "cell_type": "code",
   "execution_count": 10,
   "id": "6514cd87",
   "metadata": {},
   "outputs": [
    {
     "data": {
      "text/plain": [
       "array([[1., 1., 1., 1.],\n",
       "       [1., 1., 1., 1.]])"
      ]
     },
     "execution_count": 10,
     "metadata": {},
     "output_type": "execute_result"
    }
   ],
   "source": [
    "np.empty((2,4))"
   ]
  },
  {
   "cell_type": "code",
   "execution_count": 12,
   "id": "e417d2ea",
   "metadata": {},
   "outputs": [
    {
     "data": {
      "text/plain": [
       "array([0, 0])"
      ]
     },
     "execution_count": 12,
     "metadata": {},
     "output_type": "execute_result"
    }
   ],
   "source": [
    "np.empty_like((2,3))"
   ]
  },
  {
   "cell_type": "code",
   "execution_count": 13,
   "id": "450f0347",
   "metadata": {},
   "outputs": [
    {
     "data": {
      "text/plain": [
       "array([[0.48058407, 0.06972072, 0.01706139, 0.10730033],\n",
       "       [0.27257784, 0.09047019, 0.64668609, 0.23355879]])"
      ]
     },
     "execution_count": 13,
     "metadata": {},
     "output_type": "execute_result"
    }
   ],
   "source": [
    "np.random.random_sample((2,4))"
   ]
  },
  {
   "cell_type": "code",
   "execution_count": 14,
   "id": "8c0e0b69",
   "metadata": {},
   "outputs": [
    {
     "data": {
      "text/plain": [
       "array([0, 0])"
      ]
     },
     "execution_count": 14,
     "metadata": {},
     "output_type": "execute_result"
    }
   ],
   "source": [
    "np.random.randint((2,4))"
   ]
  },
  {
   "cell_type": "code",
   "execution_count": 16,
   "id": "bf291a56",
   "metadata": {},
   "outputs": [
    {
     "data": {
      "text/plain": [
       "array([2, 3, 4])"
      ]
     },
     "execution_count": 16,
     "metadata": {},
     "output_type": "execute_result"
    }
   ],
   "source": [
    "np.arange(2,5)"
   ]
  },
  {
   "cell_type": "code",
   "execution_count": 17,
   "id": "5577a3f9",
   "metadata": {},
   "outputs": [
    {
     "data": {
      "text/plain": [
       "array([ 2.        ,  8.14285714, 14.28571429, 20.42857143, 26.57142857,\n",
       "       32.71428571, 38.85714286, 45.        ])"
      ]
     },
     "execution_count": 17,
     "metadata": {},
     "output_type": "execute_result"
    }
   ],
   "source": [
    "np.linspace(2,45,8)"
   ]
  },
  {
   "cell_type": "code",
   "execution_count": 19,
   "id": "b29f1450",
   "metadata": {},
   "outputs": [
    {
     "data": {
      "text/plain": [
       "array([[0.30180617, 0.85497549, 0.14327461, ..., 0.06087834, 0.47722536,\n",
       "        0.86543288],\n",
       "       [0.47475293, 0.84803126, 0.1386619 , ..., 0.95592234, 0.60374991,\n",
       "        0.34203493],\n",
       "       [0.75387834, 0.39584316, 0.62160071, ..., 0.1626924 , 0.01412561,\n",
       "        0.41270911],\n",
       "       ...,\n",
       "       [0.99187284, 0.81016106, 0.0205173 , ..., 0.13018063, 0.47171678,\n",
       "        0.47582588],\n",
       "       [0.8802302 , 0.07074406, 0.03189765, ..., 0.07320701, 0.76171101,\n",
       "        0.46666977],\n",
       "       [0.14845252, 0.61431689, 0.81940088, ..., 0.67631248, 0.17422034,\n",
       "        0.47369512]])"
      ]
     },
     "execution_count": 19,
     "metadata": {},
     "output_type": "execute_result"
    }
   ],
   "source": [
    "np.random.rand(24,53)"
   ]
  },
  {
   "cell_type": "code",
   "execution_count": 20,
   "id": "e8723cf8",
   "metadata": {},
   "outputs": [
    {
     "data": {
      "text/plain": [
       "array([[1., 0., 0., ..., 0., 0., 0.],\n",
       "       [0., 1., 0., ..., 0., 0., 0.],\n",
       "       [0., 0., 1., ..., 0., 0., 0.],\n",
       "       ...,\n",
       "       [0., 0., 0., ..., 1., 0., 0.],\n",
       "       [0., 0., 0., ..., 0., 1., 0.],\n",
       "       [0., 0., 0., ..., 0., 0., 1.]])"
      ]
     },
     "execution_count": 20,
     "metadata": {},
     "output_type": "execute_result"
    }
   ],
   "source": [
    "np.identity(423)"
   ]
  },
  {
   "cell_type": "code",
   "execution_count": 22,
   "id": "5759d2f9",
   "metadata": {},
   "outputs": [
    {
     "data": {
      "text/plain": [
       "array([2, 2])"
      ]
     },
     "execution_count": 22,
     "metadata": {},
     "output_type": "execute_result"
    }
   ],
   "source": [
    "np.random.randint((4,5))"
   ]
  },
  {
   "cell_type": "code",
   "execution_count": 23,
   "id": "48da14c5",
   "metadata": {},
   "outputs": [
    {
     "data": {
      "text/plain": [
       "array([[1, 3],\n",
       "       [5, 6],\n",
       "       [7, 4],\n",
       "       [6, 4]])"
      ]
     },
     "execution_count": 23,
     "metadata": {},
     "output_type": "execute_result"
    }
   ],
   "source": [
    "numpy_A"
   ]
  },
  {
   "cell_type": "code",
   "execution_count": 24,
   "id": "79a9f686",
   "metadata": {},
   "outputs": [
    {
     "data": {
      "text/plain": [
       "(4, 2)"
      ]
     },
     "execution_count": 24,
     "metadata": {},
     "output_type": "execute_result"
    }
   ],
   "source": [
    "numpy_A.shape"
   ]
  },
  {
   "cell_type": "code",
   "execution_count": 25,
   "id": "6c0cb88c",
   "metadata": {},
   "outputs": [
    {
     "data": {
      "text/plain": [
       "array([[1, 3, 5, 6],\n",
       "       [7, 4, 6, 4]])"
      ]
     },
     "execution_count": 25,
     "metadata": {},
     "output_type": "execute_result"
    }
   ],
   "source": [
    "numpy_A.reshape((2,4))"
   ]
  },
  {
   "cell_type": "code",
   "execution_count": 26,
   "id": "38ef9d51",
   "metadata": {},
   "outputs": [
    {
     "data": {
      "text/plain": [
       "array([1, 3, 5, 6, 7, 4, 6, 4])"
      ]
     },
     "execution_count": 26,
     "metadata": {},
     "output_type": "execute_result"
    }
   ],
   "source": [
    "numpy_A.ravel()"
   ]
  },
  {
   "cell_type": "code",
   "execution_count": 27,
   "id": "d56cc6c1",
   "metadata": {},
   "outputs": [
    {
     "data": {
      "text/plain": [
       "array([[1, 5, 7, 6],\n",
       "       [3, 6, 4, 4]])"
      ]
     },
     "execution_count": 27,
     "metadata": {},
     "output_type": "execute_result"
    }
   ],
   "source": [
    "numpy_A.T"
   ]
  },
  {
   "cell_type": "code",
   "execution_count": 28,
   "id": "df90811b",
   "metadata": {},
   "outputs": [
    {
     "data": {
      "text/plain": [
       "array([19, 17])"
      ]
     },
     "execution_count": 28,
     "metadata": {},
     "output_type": "execute_result"
    }
   ],
   "source": [
    "numpy_A.sum(axis=0)"
   ]
  },
  {
   "cell_type": "code",
   "execution_count": 29,
   "id": "659a712c",
   "metadata": {},
   "outputs": [
    {
     "data": {
      "text/plain": [
       "array([ 4, 11, 11, 10])"
      ]
     },
     "execution_count": 29,
     "metadata": {},
     "output_type": "execute_result"
    }
   ],
   "source": [
    "numpy_A.sum(axis=1)"
   ]
  },
  {
   "cell_type": "code",
   "execution_count": 31,
   "id": "a01fd31e",
   "metadata": {},
   "outputs": [
    {
     "data": {
      "text/plain": [
       "<numpy.flatiter at 0x174ff898940>"
      ]
     },
     "execution_count": 31,
     "metadata": {},
     "output_type": "execute_result"
    }
   ],
   "source": [
    "numpy_A.flat"
   ]
  },
  {
   "cell_type": "code",
   "execution_count": 32,
   "id": "13eff23a",
   "metadata": {},
   "outputs": [
    {
     "name": "stdout",
     "output_type": "stream",
     "text": [
      "1\n",
      "3\n",
      "5\n",
      "6\n",
      "7\n",
      "4\n",
      "6\n",
      "4\n"
     ]
    }
   ],
   "source": [
    "for item in numpy_A.flat:\n",
    "    print(item)"
   ]
  },
  {
   "cell_type": "code",
   "execution_count": 33,
   "id": "978c9357",
   "metadata": {},
   "outputs": [
    {
     "data": {
      "text/plain": [
       "4"
      ]
     },
     "execution_count": 33,
     "metadata": {},
     "output_type": "execute_result"
    }
   ],
   "source": [
    "numpy_A.argmax()"
   ]
  },
  {
   "cell_type": "code",
   "execution_count": 34,
   "id": "4b163e25",
   "metadata": {},
   "outputs": [
    {
     "data": {
      "text/plain": [
       "0"
      ]
     },
     "execution_count": 34,
     "metadata": {},
     "output_type": "execute_result"
    }
   ],
   "source": [
    "numpy_A.argmin()"
   ]
  },
  {
   "cell_type": "code",
   "execution_count": 35,
   "id": "ea4cff55",
   "metadata": {},
   "outputs": [
    {
     "data": {
      "text/plain": [
       "array([[0, 1],\n",
       "       [0, 1],\n",
       "       [1, 0],\n",
       "       [1, 0]], dtype=int64)"
      ]
     },
     "execution_count": 35,
     "metadata": {},
     "output_type": "execute_result"
    }
   ],
   "source": [
    "numpy_A.argsort()\n"
   ]
  },
  {
   "cell_type": "code",
   "execution_count": 36,
   "id": "df6a3140",
   "metadata": {},
   "outputs": [
    {
     "data": {
      "text/plain": [
       "36"
      ]
     },
     "execution_count": 36,
     "metadata": {},
     "output_type": "execute_result"
    }
   ],
   "source": [
    "numpy_A.sum()"
   ]
  },
  {
   "cell_type": "code",
   "execution_count": 39,
   "id": "d512c5e5",
   "metadata": {},
   "outputs": [
    {
     "name": "stdout",
     "output_type": "stream",
     "text": [
      "36\n",
      "1\n",
      "7\n",
      "4.5\n"
     ]
    }
   ],
   "source": [
    "print(numpy_A.sum())\n",
    "print(numpy_A.min())\n",
    "print(numpy_A.max())\n",
    "print(numpy_A.mean())\n",
    "      "
   ]
  },
  {
   "cell_type": "code",
   "execution_count": 41,
   "id": "daebf7f2",
   "metadata": {},
   "outputs": [
    {
     "data": {
      "text/plain": [
       "8"
      ]
     },
     "execution_count": 41,
     "metadata": {},
     "output_type": "execute_result"
    }
   ],
   "source": [
    "np.count_nonzero(numpy_A)"
   ]
  },
  {
   "cell_type": "code",
   "execution_count": 43,
   "id": "cd471963",
   "metadata": {},
   "outputs": [
    {
     "data": {
      "text/plain": [
       "36"
      ]
     },
     "execution_count": 43,
     "metadata": {},
     "output_type": "execute_result"
    }
   ],
   "source": [
    "np.sum(numpy_A)"
   ]
  },
  {
   "cell_type": "code",
   "execution_count": 44,
   "id": "9336cade",
   "metadata": {},
   "outputs": [
    {
     "data": {
      "text/plain": [
       "array([[1.        , 1.73205081],\n",
       "       [2.23606798, 2.44948974],\n",
       "       [2.64575131, 2.        ],\n",
       "       [2.44948974, 2.        ]])"
      ]
     },
     "execution_count": 44,
     "metadata": {},
     "output_type": "execute_result"
    }
   ],
   "source": [
    "np.sqrt(numpy_A)"
   ]
  },
  {
   "cell_type": "code",
   "execution_count": 45,
   "id": "6a0f1d55",
   "metadata": {},
   "outputs": [
    {
     "data": {
      "text/plain": [
       "1.8027756377319946"
      ]
     },
     "execution_count": 45,
     "metadata": {},
     "output_type": "execute_result"
    }
   ],
   "source": [
    "np.std(numpy_A)"
   ]
  },
  {
   "cell_type": "code",
   "execution_count": 48,
   "id": "9e3f4340",
   "metadata": {},
   "outputs": [
    {
     "data": {
      "text/plain": [
       "140"
      ]
     },
     "execution_count": 48,
     "metadata": {},
     "output_type": "execute_result"
    }
   ],
   "source": [
    "import sys\n",
    "py_ar = [0,4,5,5,2]\n",
    "np_ar = np.array(py_ar)\n",
    "sys.getsizeof(1) * len(py_ar)"
   ]
  },
  {
   "cell_type": "code",
   "execution_count": 49,
   "id": "ae9445a4",
   "metadata": {},
   "outputs": [
    {
     "data": {
      "text/plain": [
       "20"
      ]
     },
     "execution_count": 49,
     "metadata": {},
     "output_type": "execute_result"
    }
   ],
   "source": [
    "np_ar.itemsize * np_ar.size"
   ]
  },
  {
   "cell_type": "code",
   "execution_count": 50,
   "id": "279a9cdc",
   "metadata": {},
   "outputs": [],
   "source": [
    "output = np.ones((5,5))"
   ]
  },
  {
   "cell_type": "code",
   "execution_count": 51,
   "id": "de2d30b0",
   "metadata": {},
   "outputs": [
    {
     "data": {
      "text/plain": [
       "array([[1., 1., 1., 1., 1.],\n",
       "       [1., 1., 1., 1., 1.],\n",
       "       [1., 1., 1., 1., 1.],\n",
       "       [1., 1., 1., 1., 1.],\n",
       "       [1., 1., 1., 1., 1.]])"
      ]
     },
     "execution_count": 51,
     "metadata": {},
     "output_type": "execute_result"
    }
   ],
   "source": [
    "output"
   ]
  },
  {
   "cell_type": "code",
   "execution_count": 52,
   "id": "c5093bcd",
   "metadata": {},
   "outputs": [
    {
     "data": {
      "text/plain": [
       "array([[0., 0., 0.],\n",
       "       [0., 0., 0.],\n",
       "       [0., 0., 0.]])"
      ]
     },
     "execution_count": 52,
     "metadata": {},
     "output_type": "execute_result"
    }
   ],
   "source": [
    "z = np.zeros((3,3))\n",
    "z"
   ]
  },
  {
   "cell_type": "code",
   "execution_count": 55,
   "id": "4b719123",
   "metadata": {},
   "outputs": [],
   "source": [
    "z[2,-2 ] = 9"
   ]
  },
  {
   "cell_type": "code",
   "execution_count": 56,
   "id": "49d7ba26",
   "metadata": {},
   "outputs": [
    {
     "data": {
      "text/plain": [
       "array([[0., 0., 0.],\n",
       "       [0., 0., 9.],\n",
       "       [0., 9., 0.]])"
      ]
     },
     "execution_count": 56,
     "metadata": {},
     "output_type": "execute_result"
    }
   ],
   "source": [
    "z"
   ]
  },
  {
   "cell_type": "code",
   "execution_count": 57,
   "id": "9950290f",
   "metadata": {},
   "outputs": [
    {
     "data": {
      "text/plain": [
       "array([[0., 0., 0.],\n",
       "       [0., 0., 9.],\n",
       "       [0., 9., 0.]])"
      ]
     },
     "execution_count": 57,
     "metadata": {},
     "output_type": "execute_result"
    }
   ],
   "source": [
    "z"
   ]
  },
  {
   "cell_type": "code",
   "execution_count": 58,
   "id": "8acabd06",
   "metadata": {},
   "outputs": [],
   "source": [
    "output[1:-1,1:-1] = z"
   ]
  },
  {
   "cell_type": "code",
   "execution_count": 59,
   "id": "99cf83ad",
   "metadata": {},
   "outputs": [
    {
     "data": {
      "text/plain": [
       "array([[1., 1., 1., 1., 1.],\n",
       "       [1., 0., 0., 0., 1.],\n",
       "       [1., 0., 0., 9., 1.],\n",
       "       [1., 0., 9., 0., 1.],\n",
       "       [1., 1., 1., 1., 1.]])"
      ]
     },
     "execution_count": 59,
     "metadata": {},
     "output_type": "execute_result"
    }
   ],
   "source": [
    "output"
   ]
  },
  {
   "cell_type": "code",
   "execution_count": 60,
   "id": "296816bb",
   "metadata": {},
   "outputs": [
    {
     "data": {
      "text/plain": [
       "array([[ 0.84147098,  0.14112001],\n",
       "       [-0.95892427, -0.2794155 ],\n",
       "       [ 0.6569866 , -0.7568025 ],\n",
       "       [-0.2794155 , -0.7568025 ]])"
      ]
     },
     "execution_count": 60,
     "metadata": {},
     "output_type": "execute_result"
    }
   ],
   "source": [
    "np.sin(numpy_A)"
   ]
  },
  {
   "cell_type": "code",
   "execution_count": 61,
   "id": "b5a62eab",
   "metadata": {},
   "outputs": [
    {
     "data": {
      "text/plain": [
       "array([[ 0.54030231, -0.9899925 ],\n",
       "       [ 0.28366219,  0.96017029],\n",
       "       [ 0.75390225, -0.65364362],\n",
       "       [ 0.96017029, -0.65364362]])"
      ]
     },
     "execution_count": 61,
     "metadata": {},
     "output_type": "execute_result"
    }
   ],
   "source": [
    "np.cos(numpy_A)"
   ]
  },
  {
   "cell_type": "code",
   "execution_count": 62,
   "id": "3b01250d",
   "metadata": {},
   "outputs": [
    {
     "data": {
      "text/plain": [
       "array([[ 1.55740772, -0.14254654],\n",
       "       [-3.38051501, -0.29100619],\n",
       "       [ 0.87144798,  1.15782128],\n",
       "       [-0.29100619,  1.15782128]])"
      ]
     },
     "execution_count": 62,
     "metadata": {},
     "output_type": "execute_result"
    }
   ],
   "source": [
    "np.tan(numpy_A)"
   ]
  },
  {
   "cell_type": "code",
   "execution_count": 67,
   "id": "6d0c1ed5",
   "metadata": {},
   "outputs": [],
   "source": [
    "z = ([342,3,432,42,5,45,45,43,634,63,63,6,36,34,6,3446,3446,346])\n"
   ]
  },
  {
   "cell_type": "code",
   "execution_count": 70,
   "id": "f3a3f812",
   "metadata": {},
   "outputs": [
    {
     "data": {
      "text/plain": [
       "array([[2, 4],\n",
       "       [6, 5],\n",
       "       [6, 3]])"
      ]
     },
     "execution_count": 70,
     "metadata": {},
     "output_type": "execute_result"
    }
   ],
   "source": [
    "v1 =np.array([\n",
    "    [2,4],[6,5],[6,3]\n",
    "])\n",
    "v1"
   ]
  },
  {
   "cell_type": "code",
   "execution_count": 72,
   "id": "97f90fc1",
   "metadata": {},
   "outputs": [
    {
     "data": {
      "text/plain": [
       "array([[5, 7],\n",
       "       [7, 4],\n",
       "       [2, 3]])"
      ]
     },
     "execution_count": 72,
     "metadata": {},
     "output_type": "execute_result"
    }
   ],
   "source": [
    "v2 = np.array([\n",
    "    [5,7],[7,4],[2,3]\n",
    "])\n",
    "v2"
   ]
  },
  {
   "cell_type": "code",
   "execution_count": 74,
   "id": "b6995418",
   "metadata": {},
   "outputs": [
    {
     "data": {
      "text/plain": [
       "array([[2, 4],\n",
       "       [6, 5],\n",
       "       [6, 3],\n",
       "       [5, 7],\n",
       "       [7, 4],\n",
       "       [2, 3]])"
      ]
     },
     "execution_count": 74,
     "metadata": {},
     "output_type": "execute_result"
    }
   ],
   "source": [
    "np.vstack([v1,v2])"
   ]
  },
  {
   "cell_type": "code",
   "execution_count": 75,
   "id": "016f39ff",
   "metadata": {},
   "outputs": [
    {
     "data": {
      "text/plain": [
       "array([[2, 4, 5, 7],\n",
       "       [6, 5, 7, 4],\n",
       "       [6, 3, 2, 3]])"
      ]
     },
     "execution_count": 75,
     "metadata": {},
     "output_type": "execute_result"
    }
   ],
   "source": [
    "np.hstack([v1,v2])"
   ]
  },
  {
   "cell_type": "code",
   "execution_count": 78,
   "id": "3f5d5507",
   "metadata": {},
   "outputs": [
    {
     "data": {
      "text/plain": [
       "array([2, 4, 6, 5, 6, 3, 5, 7, 7, 4, 2, 3])"
      ]
     },
     "execution_count": 78,
     "metadata": {},
     "output_type": "execute_result"
    }
   ],
   "source": [
    "np.ravel([v1,v2])"
   ]
  },
  {
   "cell_type": "code",
   "execution_count": 79,
   "id": "b0a1b6e2",
   "metadata": {},
   "outputs": [
    {
     "data": {
      "text/plain": [
       "array([[1, 3],\n",
       "       [5, 6],\n",
       "       [7, 4],\n",
       "       [6, 4]])"
      ]
     },
     "execution_count": 79,
     "metadata": {},
     "output_type": "execute_result"
    }
   ],
   "source": [
    "numpy_A"
   ]
  },
  {
   "cell_type": "code",
   "execution_count": 81,
   "id": "e06bf86f",
   "metadata": {},
   "outputs": [
    {
     "data": {
      "text/plain": [
       "array([[1, 3],\n",
       "       [5, 6]])"
      ]
     },
     "execution_count": 81,
     "metadata": {},
     "output_type": "execute_result"
    }
   ],
   "source": [
    "numpy_A[:2]"
   ]
  },
  {
   "cell_type": "code",
   "execution_count": 82,
   "id": "734cefd1",
   "metadata": {},
   "outputs": [
    {
     "data": {
      "text/plain": [
       "array([[5, 6],\n",
       "       [7, 4],\n",
       "       [6, 4]])"
      ]
     },
     "execution_count": 82,
     "metadata": {},
     "output_type": "execute_result"
    }
   ],
   "source": [
    "numpy_A[1:]"
   ]
  },
  {
   "cell_type": "markdown",
   "id": "164d71bb",
   "metadata": {},
   "source": [
    "# And The Journey Begins"
   ]
  },
  {
   "cell_type": "code",
   "execution_count": null,
   "id": "11886001",
   "metadata": {},
   "outputs": [],
   "source": []
  }
 ],
 "metadata": {
  "kernelspec": {
   "display_name": "Python 3",
   "language": "python",
   "name": "python3"
  },
  "language_info": {
   "codemirror_mode": {
    "name": "ipython",
    "version": 3
   },
   "file_extension": ".py",
   "mimetype": "text/x-python",
   "name": "python",
   "nbconvert_exporter": "python",
   "pygments_lexer": "ipython3",
   "version": "3.8.8"
  }
 },
 "nbformat": 4,
 "nbformat_minor": 5
}
